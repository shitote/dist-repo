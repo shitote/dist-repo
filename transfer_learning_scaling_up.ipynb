{
  "cells": [
    {
      "cell_type": "markdown",
      "metadata": {
        "id": "view-in-github",
        "colab_type": "text"
      },
      "source": [
        "<a href=\"https://colab.research.google.com/github/shitote/dist-repo/blob/main/transfer_learning_scaling_up.ipynb\" target=\"_parent\"><img src=\"https://colab.research.google.com/assets/colab-badge.svg\" alt=\"Open In Colab\"/></a>"
      ]
    },
    {
      "cell_type": "markdown",
      "metadata": {
        "id": "PAW_rmCgz0Cv"
      },
      "source": [
        "# Rranfer Learnig Scaling up (🍰👁 Food Vision)"
      ]
    },
    {
      "cell_type": "code",
      "execution_count": null,
      "metadata": {
        "id": "fDwz_lGJ1kkm"
      },
      "outputs": [],
      "source": [
        "!nvidia-smi"
      ]
    },
    {
      "cell_type": "code",
      "execution_count": null,
      "metadata": {
        "id": "EnY7yAAW1sUj"
      },
      "outputs": [],
      "source": [
        "!wget https://raw.githubusercontent.com/mrdbourke/tensorflow-deep-learning/main/extras/helper_functions.py"
      ]
    },
    {
      "cell_type": "code",
      "execution_count": 3,
      "metadata": {
        "id": "1_KFA-v02gg3"
      },
      "outputs": [],
      "source": [
        "from helper_functions import create_tensorboard_callback, plot_loss_curves, unzip_data, compare_historys, walk_through_dir"
      ]
    },
    {
      "cell_type": "markdown",
      "metadata": {
        "id": "Ntijvtxd4CvL"
      },
      "source": [
        "## 101 Working with less data"
      ]
    },
    {
      "cell_type": "code",
      "execution_count": null,
      "metadata": {
        "id": "MbiAFogv5_I7"
      },
      "outputs": [],
      "source": [
        "!wget https://storage.googleapis.com/ztm_tf_course/food_vision/101_food_classes_10_percent.zip\n",
        "unzip_data(\"101_food_classes_10_percent.zip\")"
      ]
    },
    {
      "cell_type": "code",
      "execution_count": 5,
      "metadata": {
        "id": "5O0tSrnb6JBl"
      },
      "outputs": [],
      "source": [
        "train_dir = \"101_food_classes_10_percent/train/\"\n",
        "test_dir = \"101_food_classes_10_percent/test/\""
      ]
    },
    {
      "cell_type": "code",
      "execution_count": null,
      "metadata": {
        "id": "UILWbvVt6ZQ4"
      },
      "outputs": [],
      "source": [
        "# image classes\n",
        "walk_through_dir(\"101_food_classes_10_percent\")"
      ]
    },
    {
      "cell_type": "code",
      "execution_count": null,
      "metadata": {
        "id": "sgePCJe26n4S"
      },
      "outputs": [],
      "source": [
        "# Se up data inputs\n",
        "import tensorflow as tf\n",
        "IMG_SIZE = (224, 224)\n",
        "train_data_all_10_percent = tf.keras.preprocessing.image_dataset_from_directory(train_dir,\n",
        "                                                                               label_mode=\"categorical\",\n",
        "                                                                               image_size=IMG_SIZE)\n",
        "test_data = tf.keras.preprocessing.image_dataset_from_directory(test_dir,\n",
        "                                                                label_mode='categorical',\n",
        "                                                                image_size=IMG_SIZE,\n",
        "                                                                shuffle=False)"
      ]
    },
    {
      "cell_type": "markdown",
      "metadata": {
        "id": "KhRQPHBo7amh"
      },
      "source": [
        "## Train the model.\n",
        "steps to take.\n",
        "* Create a modelCheckpoint callback\n",
        "* Create a data augmentation.\n",
        "* Build a headlsess functional api model.\n",
        "* compile the model.\n",
        "* Feature extraxt\n"
      ]
    },
    {
      "cell_type": "code",
      "execution_count": 8,
      "metadata": {
        "id": "Ngin_qnVcuzY"
      },
      "outputs": [],
      "source": [
        "checkpoint_path = \"101_classes_10_percent_data_model_checkpoint\"\n",
        "checkpoint_callback = tf.keras.callbacks.ModelCheckpoint(checkpoint_path,\n",
        "                                                         save_weights_only=True,\n",
        "                                                         monitor=\"val_accuracy\",\n",
        "                                                         save_best_only=True)"
      ]
    },
    {
      "cell_type": "code",
      "execution_count": 9,
      "metadata": {
        "id": "Ase16YJgd8hc"
      },
      "outputs": [],
      "source": [
        "# Create data augmentation layer\n",
        "import tensorflow as tf\n",
        "from tensorflow.keras import layers\n",
        "from tensorflow.keras.layers.experimental import preprocessing\n",
        "from tensorflow.keras.models import Sequential\n",
        "\n",
        "data_augmentaion = Sequential([\n",
        "    preprocessing.RandomFlip(\"horizontal\"),\n",
        "    preprocessing.RandomRotation(0.2),\n",
        "    preprocessing.RandomHeight(0.2),\n",
        "    preprocessing.RandomWidth(0.2),\n",
        "    preprocessing.RandomZoom(0.2)\n",
        "], name=\"dara_augmentation\")\n"
      ]
    },
    {
      "cell_type": "code",
      "execution_count": null,
      "metadata": {
        "id": "Nj8JGzQqjWV2"
      },
      "outputs": [],
      "source": [
        "# set up the base model.\n",
        "base_model = tf.keras.applications.EfficientNetB0(include_top=False)\n",
        "base_model.trainable = False\n",
        "\n",
        "# Setup model architecture with trainabe top layers\n",
        "inputs = layers.Input(shape=(224, 224, 3), name='input_layer')\n",
        "x = data_augmentaion(inputs)\n",
        "x = base_model(x, training=False)\n",
        "x = layers.GlobalAveragePooling2D(name='gloabal_avg_pool_layer')(x)\n",
        "outputs = layers.Dense(len(train_data_all_10_percent.class_names), activation=\"softmax\", name=\"output_layer\")(x)\n",
        "model = tf.keras.Model(inputs, outputs)\n",
        "\n"
      ]
    },
    {
      "cell_type": "code",
      "execution_count": null,
      "metadata": {
        "id": "rpzXUmk3n0-Z"
      },
      "outputs": [],
      "source": [
        "model.compile(loss='categorical_crossentropy',\n",
        "              optimizer=tf.keras.optimizers.Adam(),\n",
        "              metrics=[\"accuracy\"])\n",
        "\n",
        "# Fit the model\n",
        "history_all_classes_10_percent = model.fit(train_data_all_10_percent,\n",
        "                                           epochs=5,\n",
        "                                           validation_data=test_data,\n",
        "                                           validation_steps=int(0.15 * len(test_data)),\n",
        "                                           callbacks=[checkpoint_callback])"
      ]
    },
    {
      "cell_type": "code",
      "execution_count": null,
      "metadata": {
        "id": "I1Tj22a-oZ7q"
      },
      "outputs": [],
      "source": [
        "fine_tuning_results = model.evaluate(test_data)\n",
        "fine_tuning_results"
      ]
    },
    {
      "cell_type": "code",
      "execution_count": null,
      "metadata": {
        "id": "Sn6WM_mLtRRD"
      },
      "outputs": [],
      "source": [
        "plot_loss_curves(history_all_classes_10_percent)"
      ]
    },
    {
      "cell_type": "markdown",
      "metadata": {
        "id": "Ljw_GG4BuKm3"
      },
      "source": [
        "## FIne tuning"
      ]
    },
    {
      "cell_type": "code",
      "execution_count": 14,
      "metadata": {
        "id": "xQU7zV5_vBJU"
      },
      "outputs": [],
      "source": [
        "# Unfreeze all the layers in the base model to be trainable\n",
        "base_model.trainable = True\n",
        "\n",
        "# Refreeze every layer excep the last 5\n",
        "for layer in base_model.layers[:-5]:\n",
        "  layer.trainable = False"
      ]
    },
    {
      "cell_type": "code",
      "execution_count": 15,
      "metadata": {
        "id": "SXMdeUvPvlld"
      },
      "outputs": [],
      "source": [
        "model.compile(loss='categorical_crossentropy',\n",
        "              optimizer=tf.keras.optimizers.Adam(0.0001),\n",
        "              metrics=['accuracy'])"
      ]
    },
    {
      "cell_type": "code",
      "execution_count": null,
      "metadata": {
        "id": "MN3WDQA_vuEB"
      },
      "outputs": [],
      "source": [
        "for layer in model.layers:\n",
        "  print(layer.name, layer.trainable)"
      ]
    },
    {
      "cell_type": "code",
      "execution_count": null,
      "metadata": {
        "id": "4cASqyDgwxMV"
      },
      "outputs": [],
      "source": [
        "for layer_number, layer in enumerate(model.layers[2].layers):\n",
        "  print(layer_number, layer.name, layer.trainable)\n"
      ]
    },
    {
      "cell_type": "code",
      "execution_count": null,
      "metadata": {
        "id": "vJgOvkumxbvG"
      },
      "outputs": [],
      "source": [
        "# Fien tune for 5 more epoches\n",
        "fine_tune_epochs = 10\n",
        "\n",
        "# Fine-tune the model.\n",
        "history_all_classes_10_percent_fine_tune = model.fit(train_data_all_10_percent,\n",
        "                                                     epochs=fine_tune_epochs,\n",
        "                                                     validation_data=test_data,\n",
        "                                                     validation_steps=int(0.15 * len(test_data)),\n",
        "                                                     initial_epoch=history_all_classes_10_percent.epoch[-1])"
      ]
    },
    {
      "cell_type": "code",
      "execution_count": null,
      "metadata": {
        "id": "gu48hVGVz1Zv"
      },
      "outputs": [],
      "source": [
        "history_all_classes_10_percent_fine_tune_results = model.evaluate(test_data)"
      ]
    },
    {
      "cell_type": "code",
      "execution_count": null,
      "metadata": {
        "id": "mkKefssS3WFn"
      },
      "outputs": [],
      "source": [
        "compare_historys(history_all_classes_10_percent,\n",
        "    history_all_classes_10_percent_fine_tune)"
      ]
    },
    {
      "cell_type": "markdown",
      "metadata": {
        "id": "DV0bpUUS4Y1m"
      },
      "source": [
        "## Saving and loading the model\n",
        "To use the model is an external application, we'll need to save it export it somewhare else.\n"
      ]
    },
    {
      "cell_type": "code",
      "execution_count": 21,
      "metadata": {
        "id": "slm1Gv_prIsS"
      },
      "outputs": [],
      "source": [
        "model.save(\"drive/MyDrive/tensorflow/101_food_classes_10_percent_saved_big_dog_model\")"
      ]
    },
    {
      "cell_type": "code",
      "execution_count": 22,
      "metadata": {
        "id": "jDQeTkMusBdR"
      },
      "outputs": [],
      "source": [
        "import tensorflow as tf\n",
        "loaded_model = tf.keras.models.load_model(\"drive/MyDrive/tensorflow/101_food_classes_10_percent_saved_big_dog_model\")"
      ]
    },
    {
      "cell_type": "code",
      "execution_count": null,
      "metadata": {
        "id": "RMWb1Cmdsfln"
      },
      "outputs": [],
      "source": [
        "loaded_model_results = loaded_model.evaluate(test_data)"
      ]
    },
    {
      "cell_type": "code",
      "execution_count": null,
      "metadata": {
        "id": "xFQcEZXdspx4"
      },
      "outputs": [],
      "source": [
        "history_all_classes_10_percent_fine_tune_results"
      ]
    },
    {
      "cell_type": "markdown",
      "metadata": {
        "id": "VIDUH0AAsy3a"
      },
      "source": [
        "## Evaluating the performance of the model across all different classes"
      ]
    },
    {
      "cell_type": "code",
      "execution_count": null,
      "metadata": {
        "id": "GhW75wSIuDvS"
      },
      "outputs": [],
      "source": [
        "import tensorflow as tf\n",
        "\n",
        "!wget https://storage.googleapis.com/ztm_tf_course/food_vision/06_101_food_class_10_percent_saved_big_dog_model.zip"
      ]
    },
    {
      "cell_type": "code",
      "execution_count": 26,
      "metadata": {
        "id": "0Gn9HX8dunGX"
      },
      "outputs": [],
      "source": [
        "unzip_data(\"/content/06_101_food_class_10_percent_saved_big_dog_model.zip\")"
      ]
    },
    {
      "cell_type": "code",
      "execution_count": null,
      "metadata": {
        "id": "F-G5qjaxu8am"
      },
      "outputs": [],
      "source": [
        "model = tf.keras.models.load_model(\"/content/06_101_food_class_10_percent_saved_big_dog_model\")"
      ]
    },
    {
      "cell_type": "code",
      "execution_count": null,
      "metadata": {
        "id": "xrGbYVH-vW7X"
      },
      "outputs": [],
      "source": [
        "# Evaluate the loaded model on test data\n",
        "results_downloaded_model = model.evaluate(test_data)\n"
      ]
    },
    {
      "cell_type": "code",
      "execution_count": null,
      "metadata": {
        "id": "JfKVrbICvvX9"
      },
      "outputs": [],
      "source": [
        "results_downloaded_model"
      ]
    },
    {
      "cell_type": "markdown",
      "metadata": {
        "id": "5mO47vjEwWVc"
      },
      "source": [
        "## Making predictions.\n"
      ]
    },
    {
      "cell_type": "code",
      "execution_count": null,
      "metadata": {
        "id": "O2LXga3ywb7I"
      },
      "outputs": [],
      "source": [
        "# make predictions with the model.\n",
        "preds_probs = model.predict(test_data, verbose=1)"
      ]
    },
    {
      "cell_type": "code",
      "execution_count": null,
      "metadata": {
        "id": "bMkyW64Yw2jI"
      },
      "outputs": [],
      "source": [
        "# How many predictions are there\n",
        "len(preds_probs), preds_probs.shape"
      ]
    },
    {
      "cell_type": "code",
      "source": [
        "preds_probs[:10]"
      ],
      "metadata": {
        "id": "-g1hV6r3-__H"
      },
      "execution_count": null,
      "outputs": []
    },
    {
      "cell_type": "code",
      "source": [
        "len(preds_probs[0]), sum(preds_probs[0]), preds_probs[0]"
      ],
      "metadata": {
        "id": "UcfOqUkC_Ycx"
      },
      "execution_count": null,
      "outputs": []
    },
    {
      "cell_type": "markdown",
      "source": [
        "The model outputs a prediction probability array(with N number of variables, wher N is the number of classes) for each sample passed to the prediction method"
      ],
      "metadata": {
        "id": "6T_o33kK_oig"
      }
    },
    {
      "cell_type": "code",
      "source": [
        "# get one prediction probability per class.\n",
        "print(f\"Number of prediction probs sample 0: {len(preds_probs[0])}\")\n",
        "print(f\"Prediction prob for sample 0: {preds_probs[0]}\")\n",
        "print(f\"The highest prediction prob for the results in the prediction array: {preds_probs[0].argmax()}\")"
      ],
      "metadata": {
        "id": "meId0bYFAgt6"
      },
      "execution_count": null,
      "outputs": []
    },
    {
      "cell_type": "code",
      "source": [
        "print(len(test_data) * 32)"
      ],
      "metadata": {
        "id": "mQNYrRu3BfCZ"
      },
      "execution_count": null,
      "outputs": []
    },
    {
      "cell_type": "code",
      "source": [
        "pred_classes = preds_probs.argmax(axis=1)\n",
        "pred_classes[:10]"
      ],
      "metadata": {
        "id": "l01p827PBynK"
      },
      "execution_count": null,
      "outputs": []
    },
    {
      "cell_type": "markdown",
      "source": [
        "COmapre the prediction to the original sample"
      ],
      "metadata": {
        "id": "fXqCuLCxCaiF"
      }
    },
    {
      "cell_type": "code",
      "source": [
        "# Unravle test data batchDataset\n",
        "y_labels = []\n",
        "for images, labels in test_data.unbatch():\n",
        "  y_labels.append(labels.numpy().argmax())  # Find the index value where one occuers in the batch\n",
        "\n",
        "\n",
        "y_labels[:10]"
      ],
      "metadata": {
        "id": "RFjRfrmlDQCq"
      },
      "execution_count": null,
      "outputs": []
    },
    {
      "cell_type": "markdown",
      "source": [
        "## Evaluate the prediction for the model.\n",
        "Check the models prediction are the same order as the test labels using the accuracy score."
      ],
      "metadata": {
        "id": "Yx7cUZJKEAQV"
      }
    },
    {
      "cell_type": "code",
      "source": [
        "results_downloaded_model"
      ],
      "metadata": {
        "colab": {
          "base_uri": "https://localhost:8080/"
        },
        "id": "_g8OgW8cFiU4",
        "outputId": "53c7332b-3305-49a0-8807-d7f075a949ae"
      },
      "execution_count": 38,
      "outputs": [
        {
          "output_type": "execute_result",
          "data": {
            "text/plain": [
              "[1.8027204275131226, 0.6077623963356018]"
            ]
          },
          "metadata": {},
          "execution_count": 38
        }
      ]
    },
    {
      "cell_type": "code",
      "source": [
        "from sklearn.metrics import accuracy_score\n",
        "sklearn_accuracy = accuracy_score(y_true = y_labels,\n",
        "                                  y_pred=pred_classes)\n",
        "sklearn_accuracy"
      ],
      "metadata": {
        "colab": {
          "base_uri": "https://localhost:8080/"
        },
        "id": "OnKNu43XFpKP",
        "outputId": "e133d820-7c08-4c31-9fdc-edd424826eeb"
      },
      "execution_count": 39,
      "outputs": [
        {
          "output_type": "execute_result",
          "data": {
            "text/plain": [
              "0.6077623762376237"
            ]
          },
          "metadata": {},
          "execution_count": 39
        }
      ]
    },
    {
      "cell_type": "code",
      "source": [
        "import numpy as np\n",
        "np.isclose(results_downloaded_model[1], sklearn_accuracy)"
      ],
      "metadata": {
        "colab": {
          "base_uri": "https://localhost:8080/"
        },
        "id": "yv2anw1uHut2",
        "outputId": "8186b81f-5d81-4479-bde4-2668209f5667"
      },
      "execution_count": 40,
      "outputs": [
        {
          "output_type": "execute_result",
          "data": {
            "text/plain": [
              "True"
            ]
          },
          "metadata": {},
          "execution_count": 40
        }
      ]
    },
    {
      "cell_type": "markdown",
      "source": [
        "## Make confusion matrix"
      ],
      "metadata": {
        "id": "nxEb2gchILFQ"
      }
    },
    {
      "cell_type": "code",
      "source": [
        "from helper_functions import make_confusion_matrix\n",
        "\n",
        "class_names = test_data.class_names"
      ],
      "metadata": {
        "id": "m-tM5BEvJx-q"
      },
      "execution_count": 41,
      "outputs": []
    },
    {
      "cell_type": "code",
      "source": [
        "import itertools\n",
        "import matplotlib.pyplot as plt\n",
        "import numpy as np\n",
        "from sklearn.metrics import confusion_matrix\n",
        "\n",
        "# Our function needs a different name to sklearn's plot_confusion_matrix\n",
        "def make_confusion_matrix(y_true, y_pred, classes=None, figsize=(10, 10), text_size=15, norm=False, savefig=False):\n",
        "  \"\"\"Makes a labelled confusion matrix comparing predictions and ground truth labels.\n",
        "\n",
        "  If classes is passed, confusion matrix will be labelled, if not, integer class values\n",
        "  will be used.\n",
        "\n",
        "  Args:\n",
        "    y_true: Array of truth labels (must be same shape as y_pred).\n",
        "    y_pred: Array of predicted labels (must be same shape as y_true).\n",
        "    classes: Array of class labels (e.g. string form). If `None`, integer labels are used.\n",
        "    figsize: Size of output figure (default=(10, 10)).\n",
        "    text_size: Size of output figure text (default=15).\n",
        "    norm: normalize values or not (default=False).\n",
        "    savefig: save confusion matrix to file (default=False).\n",
        "\n",
        "  Returns:\n",
        "    A labelled confusion matrix plot comparing y_true and y_pred.\n",
        "\n",
        "  Example usage:\n",
        "    make_confusion_matrix(y_true=test_labels, # ground truth test labels\n",
        "                          y_pred=y_preds, # predicted labels\n",
        "                          classes=class_names, # array of class label names\n",
        "                          figsize=(15, 15),\n",
        "                          text_size=10)\n",
        "  \"\"\"\n",
        "  # Create the confustion matrix\n",
        "  cm = confusion_matrix(y_true, y_pred)\n",
        "  cm_norm = cm.astype(\"float\") / cm.sum(axis=1)[:, np.newaxis] # normalize it\n",
        "  n_classes = cm.shape[0] # find the number of classes we're dealing with\n",
        "\n",
        "  # Plot the figure and make it pretty\n",
        "  fig, ax = plt.subplots(figsize=figsize)\n",
        "  cax = ax.matshow(cm, cmap=plt.cm.Blues) # colors will represent how 'correct' a class is, darker == better\n",
        "  fig.colorbar(cax)\n",
        "\n",
        "  # Are there a list of classes?\n",
        "  if classes:\n",
        "    labels = classes\n",
        "  else:\n",
        "    labels = np.arange(cm.shape[0])\n",
        "\n",
        "  # Label the axes\n",
        "  ax.set(title=\"Confusion Matrix\",\n",
        "         xlabel=\"Predicted label\",\n",
        "         ylabel=\"True label\",\n",
        "         xticks=np.arange(n_classes), # create enough axis slots for each class\n",
        "         yticks=np.arange(n_classes),\n",
        "         xticklabels=labels, # axes will labeled with class names (if they exist) or ints\n",
        "         yticklabels=labels)\n",
        "\n",
        "  # Make x-axis labels appear on bottom\n",
        "  ax.xaxis.set_label_position(\"bottom\")\n",
        "  ax.xaxis.tick_bottom()\n",
        "\n",
        "  ## plot x labels vertically\n",
        "  plt.xticks(rotation=70, fontsize=text_size)\n",
        "  plt.yticks(fontsize=text_size)\n",
        "\n",
        "  # Set the threshold for different colors\n",
        "  threshold = (cm.max() + cm.min()) / 2.\n",
        "\n",
        "  # Plot the text on each cell\n",
        "  for i, j in itertools.product(range(cm.shape[0]), range(cm.shape[1])):\n",
        "    if norm:\n",
        "      plt.text(j, i, f\"{cm[i, j]} ({cm_norm[i, j]*100:.1f}%)\",\n",
        "              horizontalalignment=\"center\",\n",
        "              color=\"white\" if cm[i, j] > threshold else \"black\",\n",
        "              size=text_size)\n",
        "    else:\n",
        "      plt.text(j, i, f\"{cm[i, j]}\",\n",
        "              horizontalalignment=\"center\",\n",
        "              color=\"white\" if cm[i, j] > threshold else \"black\",\n",
        "              size=text_size)\n",
        "\n",
        "  # Save the figure to the current working directory\n",
        "  if savefig:\n",
        "    fig.savefig(\"confusion_matrix.png\")\n"
      ],
      "metadata": {
        "id": "wdhgdpwdMqX3"
      },
      "execution_count": 42,
      "outputs": []
    },
    {
      "cell_type": "code",
      "source": [
        "make_confusion_matrix(y_true=y_labels,\n",
        "                      y_pred=pred_classes,\n",
        "                      classes=class_names,\n",
        "                      figsize=(100, 100),\n",
        "                      text_size=20)"
      ],
      "metadata": {
        "id": "PnJmoJ_TKHAa"
      },
      "execution_count": null,
      "outputs": []
    },
    {
      "cell_type": "markdown",
      "source": [
        "### Classification report\n",
        "\n",
        "THis is a function form sklearn library"
      ],
      "metadata": {
        "id": "gLJSnx-TKnbj"
      }
    },
    {
      "cell_type": "code",
      "source": [
        "from sklearn.metrics import classification_report\n",
        "print(classification_report(y_true= y_labels,\n",
        "                            y_pred=pred_classes))"
      ],
      "metadata": {
        "id": "AuBx1sC1PT-U"
      },
      "execution_count": null,
      "outputs": []
    },
    {
      "cell_type": "code",
      "source": [
        "classification_report_dict = classification_report(y_labels, pred_classes, output_dict=True)"
      ],
      "metadata": {
        "id": "rzi8bexVQrCa"
      },
      "execution_count": 45,
      "outputs": []
    },
    {
      "cell_type": "code",
      "source": [
        "# plot all of empty dictionary\n",
        "class_f1_scores = {}\n",
        "for k, v in classification_report_dict.items():\n",
        "  if k == \"accuracy\":  # stop once you get to accuracy\n",
        "    break\n",
        "  else:\n",
        "    class_f1_scores[class_names[int(k)]] = v[\"f1-score\"]\n",
        "class_f1_scores"
      ],
      "metadata": {
        "id": "A_MuB3GyR6-O"
      },
      "execution_count": null,
      "outputs": []
    },
    {
      "cell_type": "code",
      "source": [
        "import pandas as pd\n",
        "f1_score = pd.DataFrame({\"class_name\": list(class_f1_scores.keys()),\n",
        "                         \"f1-score\": list(class_f1_scores.values())}).sort_values(\"f1-score\", ascending=False)\n",
        "f1_score"
      ],
      "metadata": {
        "id": "nzBUmqWwTUZE"
      },
      "execution_count": null,
      "outputs": []
    },
    {
      "cell_type": "code",
      "source": [
        "import matplotlib.pyplot as plt\n",
        "fig, ax = plt.subplots(figsize=(12, 25))\n",
        "scores = ax.barh(range(len(f1_score)), f1_score[\"f1-score\"].values) # get f1_score values\n",
        "ax.set_yticks(range(len(f1_score)))\n",
        "ax.set_yticklabels(f1_score[\"class_name\"])\n",
        "ax.set_xlabel(\"F1-score\")\n",
        "ax.set_title(\"F1-score for 101 Different food classes\")\n",
        "ax.invert_yaxis();"
      ],
      "metadata": {
        "id": "qN7C6d4TU_ZT"
      },
      "execution_count": null,
      "outputs": []
    },
    {
      "cell_type": "markdown",
      "source": [
        "## isualizing prediction on custom images.\n",
        "Now this is the real test, how the modal go on food images not even on the test dataset\n",
        "\n",
        "Create a function to preprocess images, specifically it will need to:\n",
        "* Read in a target image filepath using tf.io.read_file()\n",
        "* Turn the images into a Tensor using tf.io.decode_image()\n",
        "* resize  the image tensor to be the same as the image the  model trained on using tf.image.resize()\n",
        "* scale the image to get all of the pixel values between 0 and 1"
      ],
      "metadata": {
        "id": "fj-A1feqWnj0"
      }
    },
    {
      "cell_type": "code",
      "source": [
        "def load_and_pre_image(filename, img_shape=224, scale=True):\n",
        "  \"\"\"\n",
        "  Reads in an image from filename, turn it into a tensor and reshape into\n",
        "  specific shape Iimg_shape, img_shape, color_channels.\n",
        "  Args:\n",
        "    Filename (str): path to target image.\n",
        "    image_shape (int): height/width dimention fo target image size.\n",
        "    scale (bool): sccale pixel values from 0 - 255 to 0-1 or not.\n",
        "\n",
        "  Returns:\n",
        "    Image tesor of shape (img_shape, img_shape, 3)\n",
        "  \"\"\"\n",
        "  # Read in the image.\n",
        "  img = tf.io.read_file(filename)\n",
        "\n",
        "  # Decode the image\n",
        "  img = tf.io.decode_image(img, channels=3)\n",
        "\n",
        "  # REsize the image'\n",
        "  img = tf.image.resize(img, [img_shape, img_shape])\n",
        "\n",
        "  # if Scale ? yes/no\n",
        "  if scale:\n",
        "    # rescale the image (get all values between 0 and 1)\n",
        "    return img/255.\n",
        "  else: return img\n",
        "\n"
      ],
      "metadata": {
        "id": "wOpzLbXLCIjK"
      },
      "execution_count": 60,
      "outputs": []
    },
    {
      "cell_type": "markdown",
      "source": [
        "* Load a few random images from the test dataset\n",
        "* Make predicrion on the loaded image.\n",
        "* plot the original image along with the model's predictions, prediction probability and truth label\n"
      ],
      "metadata": {
        "id": "a0HcM5jUEyQu"
      }
    },
    {
      "cell_type": "markdown",
      "source": [
        "### Make preds on a serices of random images."
      ],
      "metadata": {
        "id": "y4bJW7CEJyxB"
      }
    },
    {
      "cell_type": "code",
      "source": [
        "import os\n",
        "import random\n",
        "\n",
        "plt.figure(figsize=(17, 10))\n",
        "for i in range(3):\n",
        "  # Choose a random image form a random class\n",
        "  class_name = random.choice(class_names)\n",
        "  filename = random.choice(os.listdir(test_dir + \"/\" + class_name))\n",
        "  filepath = test_dir + class_name + '/' + filename\n",
        "\n",
        "  # Load the images and make predictions\n",
        "  img = load_and_pre_image(filepath, scale=False)\n",
        "  img_expanded = tf.expand_dims(img, axis=0)\n",
        "  # print(img_expanded.shape)\n",
        "  pred_prob = model.predict(img_expanded)  # an array of prediction probabilities.\n",
        "  pred_class = class_names[pred_prob.argmax()]  # get highest prediction prob\n",
        "  # print(pred_prob, pred_class)\n",
        "\n",
        "  # Plot the images(s)\n",
        "  plt.subplot(1, 3, i+1)\n",
        "  # print(img)\n",
        "  plt.imshow(img/225.1)\n",
        "  if class_name == pred_class:\n",
        "    title_color = 'g'\n",
        "  else:\n",
        "    title_color = 'r'\n",
        "  plt.title(f\"actual: {class_name}, pred: {pred_class}, prob: {pred_prob.max():.2f}\", c=title_color)\n",
        "  plt.axis(False)"
      ],
      "metadata": {
        "id": "O_xP3uzaJ7ax"
      },
      "execution_count": null,
      "outputs": []
    },
    {
      "cell_type": "code",
      "source": [
        "import random\n",
        "random.choice(class_names)"
      ],
      "metadata": {
        "id": "yEbp4wQzKl_j"
      },
      "execution_count": null,
      "outputs": []
    },
    {
      "cell_type": "code",
      "source": [],
      "metadata": {
        "id": "9v0eUEakKryq"
      },
      "execution_count": null,
      "outputs": []
    }
  ],
  "metadata": {
    "accelerator": "GPU",
    "colab": {
      "gpuType": "T4",
      "provenance": [],
      "mount_file_id": "11a0x7TJBQcsjBze0U-iKPZAIexCcgf-m",
      "authorship_tag": "ABX9TyP6416saXG53fn/H6ZAy85I",
      "include_colab_link": true
    },
    "kernelspec": {
      "display_name": "Python 3",
      "name": "python3"
    },
    "language_info": {
      "name": "python"
    }
  },
  "nbformat": 4,
  "nbformat_minor": 0
}