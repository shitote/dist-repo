{
  "cells": [
    {
      "cell_type": "markdown",
      "metadata": {
        "id": "view-in-github",
        "colab_type": "text"
      },
      "source": [
        "<a href=\"https://colab.research.google.com/github/shitote/dist-repo/blob/main/transfer_learning_scaling_up.ipynb\" target=\"_parent\"><img src=\"https://colab.research.google.com/assets/colab-badge.svg\" alt=\"Open In Colab\"/></a>"
      ]
    },
    {
      "cell_type": "markdown",
      "metadata": {
        "id": "PAW_rmCgz0Cv"
      },
      "source": [
        "# Rranfer Learnig Scaling up (🍰👁 Food Vision)"
      ]
    },
    {
      "cell_type": "code",
      "execution_count": null,
      "metadata": {
        "id": "fDwz_lGJ1kkm"
      },
      "outputs": [],
      "source": [
        "!nvidia-smi"
      ]
    },
    {
      "cell_type": "code",
      "execution_count": null,
      "metadata": {
        "id": "EnY7yAAW1sUj"
      },
      "outputs": [],
      "source": [
        "!wget https://raw.githubusercontent.com/mrdbourke/tensorflow-deep-learning/main/extras/helper_functions.py"
      ]
    },
    {
      "cell_type": "code",
      "execution_count": 43,
      "metadata": {
        "id": "1_KFA-v02gg3"
      },
      "outputs": [],
      "source": [
        "from helper_functions import create_tensorboard_callback, plot_loss_curves, unzip_data, compare_historys, walk_through_dir"
      ]
    },
    {
      "cell_type": "markdown",
      "metadata": {
        "id": "Ntijvtxd4CvL"
      },
      "source": [
        "## 101 Working with less data"
      ]
    },
    {
      "cell_type": "code",
      "execution_count": null,
      "metadata": {
        "id": "MbiAFogv5_I7"
      },
      "outputs": [],
      "source": [
        "!wget https://storage.googleapis.com/ztm_tf_course/food_vision/101_food_classes_10_percent.zip\n",
        "unzip_data(\"101_food_classes_10_percent.zip\")"
      ]
    },
    {
      "cell_type": "code",
      "execution_count": 45,
      "metadata": {
        "id": "5O0tSrnb6JBl"
      },
      "outputs": [],
      "source": [
        "train_dir = \"101_food_classes_10_percent/train/\"\n",
        "test_dir = \"101_food_classes_10_percent/test/\""
      ]
    },
    {
      "cell_type": "code",
      "execution_count": null,
      "metadata": {
        "id": "UILWbvVt6ZQ4"
      },
      "outputs": [],
      "source": [
        "# image classes\n",
        "walk_through_dir(\"101_food_classes_10_percent\")"
      ]
    },
    {
      "cell_type": "code",
      "execution_count": null,
      "metadata": {
        "id": "sgePCJe26n4S"
      },
      "outputs": [],
      "source": [
        "# Se up data inputs\n",
        "import tensorflow as tf\n",
        "IMG_SIZE = (224, 224)\n",
        "train_data_all_10_percent = tf.keras.preprocessing.image_dataset_from_directory(train_dir,\n",
        "                                                                               label_mode=\"categorical\",\n",
        "                                                                               image_size=IMG_SIZE)\n",
        "test_data = tf.keras.preprocessing.image_dataset_from_directory(test_dir,\n",
        "                                                                label_mode='categorical',\n",
        "                                                                image_size=IMG_SIZE,\n",
        "                                                                shuffle=False)"
      ]
    },
    {
      "cell_type": "markdown",
      "metadata": {
        "id": "KhRQPHBo7amh"
      },
      "source": [
        "## Train the model.\n",
        "steps to take.\n",
        "* Create a modelCheckpoint callback\n",
        "* Create a data augmentation.\n",
        "* Build a headlsess functional api model.\n",
        "* compile the model.\n",
        "* Feature extraxt\n"
      ]
    },
    {
      "cell_type": "code",
      "execution_count": 48,
      "metadata": {
        "id": "Ngin_qnVcuzY"
      },
      "outputs": [],
      "source": [
        "checkpoint_path = \"101_classes_10_percent_data_model_checkpoint\"\n",
        "checkpoint_callback = tf.keras.callbacks.ModelCheckpoint(checkpoint_path,\n",
        "                                                         save_weights_only=True,\n",
        "                                                         monitor=\"val_accuracy\",\n",
        "                                                         save_best_only=True)"
      ]
    },
    {
      "cell_type": "code",
      "execution_count": 49,
      "metadata": {
        "id": "Ase16YJgd8hc"
      },
      "outputs": [],
      "source": [
        "# Create data augmentation layer\n",
        "import tensorflow as tf\n",
        "from tensorflow.keras import layers\n",
        "from tensorflow.keras.layers.experimental import preprocessing\n",
        "from tensorflow.keras.models import Sequential\n",
        "\n",
        "data_augmentaion = Sequential([\n",
        "    preprocessing.RandomFlip(\"horizontal\"),\n",
        "    preprocessing.RandomRotation(0.2),\n",
        "    preprocessing.RandomHeight(0.2),\n",
        "    preprocessing.RandomWidth(0.2),\n",
        "    preprocessing.RandomZoom(0.2)\n",
        "], name=\"dara_augmentation\")\n"
      ]
    },
    {
      "cell_type": "code",
      "execution_count": 50,
      "metadata": {
        "id": "Nj8JGzQqjWV2"
      },
      "outputs": [],
      "source": [
        "# set up the base model.\n",
        "base_model = tf.keras.applications.EfficientNetB0(include_top=False)\n",
        "base_model.trainable = False\n",
        "\n",
        "# Setup model architecture with trainabe top layers\n",
        "inputs = layers.Input(shape=(224, 224, 3), name='input_layer')\n",
        "x = data_augmentaion(inputs)\n",
        "x = base_model(x, training=False)\n",
        "x = layers.GlobalAveragePooling2D(name='gloabal_avg_pool_layer')(x)\n",
        "outputs = layers.Dense(len(train_data_all_10_percent.class_names), activation=\"softmax\", name=\"output_layer\")(x)\n",
        "model = tf.keras.Model(inputs, outputs)\n",
        "\n"
      ]
    },
    {
      "cell_type": "code",
      "execution_count": null,
      "metadata": {
        "id": "rpzXUmk3n0-Z"
      },
      "outputs": [],
      "source": [
        "model.compile(loss='categorical_crossentropy',\n",
        "              optimizer=tf.keras.optimizers.Adam(),\n",
        "              metrics=[\"accuracy\"])\n",
        "\n",
        "# Fit the model\n",
        "history_all_classes_10_percent = model.fit(train_data_all_10_percent,\n",
        "                                           epochs=5,\n",
        "                                           validation_data=test_data,\n",
        "                                           validation_steps=int(0.15 * len(test_data)),\n",
        "                                           callbacks=[checkpoint_callback])"
      ]
    },
    {
      "cell_type": "code",
      "execution_count": null,
      "metadata": {
        "id": "I1Tj22a-oZ7q"
      },
      "outputs": [],
      "source": [
        "fine_tuning_results = model.evaluate(test_data)\n",
        "fine_tuning_results"
      ]
    },
    {
      "cell_type": "code",
      "execution_count": null,
      "metadata": {
        "id": "Sn6WM_mLtRRD"
      },
      "outputs": [],
      "source": [
        "plot_loss_curves(history_all_classes_10_percent)"
      ]
    },
    {
      "cell_type": "markdown",
      "metadata": {
        "id": "Ljw_GG4BuKm3"
      },
      "source": [
        "## FIne tuning"
      ]
    },
    {
      "cell_type": "code",
      "execution_count": 54,
      "metadata": {
        "id": "xQU7zV5_vBJU"
      },
      "outputs": [],
      "source": [
        "# Unfreeze all the layers in the base model to be trainable\n",
        "base_model.trainable = True\n",
        "\n",
        "# Refreeze every layer excep the last 5\n",
        "for layer in base_model.layers[:-5]:\n",
        "  layer.trainable = False"
      ]
    },
    {
      "cell_type": "code",
      "execution_count": 55,
      "metadata": {
        "id": "SXMdeUvPvlld"
      },
      "outputs": [],
      "source": [
        "model.compile(loss='categorical_crossentropy',\n",
        "              optimizer=tf.keras.optimizers.Adam(0.0001),\n",
        "              metrics=['accuracy'])"
      ]
    },
    {
      "cell_type": "code",
      "execution_count": null,
      "metadata": {
        "id": "MN3WDQA_vuEB"
      },
      "outputs": [],
      "source": [
        "for layer in model.layers:\n",
        "  print(layer.name, layer.trainable)"
      ]
    },
    {
      "cell_type": "code",
      "execution_count": null,
      "metadata": {
        "id": "4cASqyDgwxMV"
      },
      "outputs": [],
      "source": [
        "for layer_number, layer in enumerate(model.layers[2].layers):\n",
        "  print(layer_number, layer.name, layer.trainable)\n"
      ]
    },
    {
      "cell_type": "code",
      "execution_count": null,
      "metadata": {
        "id": "vJgOvkumxbvG"
      },
      "outputs": [],
      "source": [
        "# Fien tune for 5 more epoches\n",
        "fine_tune_epochs = 10\n",
        "\n",
        "# Fine-tune the model.\n",
        "history_all_classes_10_percent_fine_tune = model.fit(train_data_all_10_percent,\n",
        "                                                     epochs=fine_tune_epochs,\n",
        "                                                     validation_data=test_data,\n",
        "                                                     validation_steps=int(0.15 * len(test_data)),\n",
        "                                                     initial_epoch=history_all_classes_10_percent.epoch[-1])"
      ]
    },
    {
      "cell_type": "code",
      "execution_count": null,
      "metadata": {
        "id": "gu48hVGVz1Zv"
      },
      "outputs": [],
      "source": [
        "history_all_classes_10_percent_fine_tune_results = model.evaluate(test_data)"
      ]
    },
    {
      "cell_type": "code",
      "execution_count": null,
      "metadata": {
        "id": "mkKefssS3WFn"
      },
      "outputs": [],
      "source": [
        "compare_historys(history_all_classes_10_percent,\n",
        "    history_all_classes_10_percent_fine_tune)"
      ]
    },
    {
      "cell_type": "markdown",
      "source": [
        "## Saving and loading the model\n",
        "To use the model is an external application, we'll need to save it export it somewhare else.\n"
      ],
      "metadata": {
        "id": "DV0bpUUS4Y1m"
      }
    },
    {
      "cell_type": "code",
      "source": [
        "model.save(\"drive/MyDrive/tensorflow/101_food_classes_10_percent_saved_big_dog_model\")"
      ],
      "metadata": {
        "id": "slm1Gv_prIsS"
      },
      "execution_count": 61,
      "outputs": []
    },
    {
      "cell_type": "code",
      "source": [
        "import tensorflow as tf\n",
        "loaded_model = tf.keras.models.load_model(\"drive/MyDrive/tensorflow/101_food_classes_10_percent_saved_big_dog_model\")"
      ],
      "metadata": {
        "id": "jDQeTkMusBdR"
      },
      "execution_count": 62,
      "outputs": []
    },
    {
      "cell_type": "code",
      "source": [
        "loaded_model_results = loaded_model.evaluate(test_data)"
      ],
      "metadata": {
        "id": "RMWb1Cmdsfln"
      },
      "execution_count": null,
      "outputs": []
    },
    {
      "cell_type": "code",
      "source": [
        "history_all_classes_10_percent_fine_tune_results"
      ],
      "metadata": {
        "id": "xFQcEZXdspx4"
      },
      "execution_count": null,
      "outputs": []
    },
    {
      "cell_type": "markdown",
      "source": [
        "## Evaluating the performance of the model across all different classes"
      ],
      "metadata": {
        "id": "VIDUH0AAsy3a"
      }
    },
    {
      "cell_type": "code",
      "source": [
        "import tensorflow as tf\n",
        "\n",
        "!wget https://storage.googleapis.com/ztm_tf_course/food_vision/06_101_food_class_10_percent_saved_big_dog_model.zip"
      ],
      "metadata": {
        "id": "GhW75wSIuDvS"
      },
      "execution_count": null,
      "outputs": []
    },
    {
      "cell_type": "code",
      "source": [
        "unzip_data(\"/content/06_101_food_class_10_percent_saved_big_dog_model.zip\")"
      ],
      "metadata": {
        "id": "0Gn9HX8dunGX"
      },
      "execution_count": 66,
      "outputs": []
    },
    {
      "cell_type": "code",
      "source": [
        "model = tf.keras.models.load_model(\"/content/06_101_food_class_10_percent_saved_big_dog_model\")"
      ],
      "metadata": {
        "id": "F-G5qjaxu8am"
      },
      "execution_count": null,
      "outputs": []
    },
    {
      "cell_type": "code",
      "source": [
        "# Evaluate the loaded model on test data\n",
        "results_downloaded_model = model.evaluate(test_data)\n"
      ],
      "metadata": {
        "id": "xrGbYVH-vW7X"
      },
      "execution_count": null,
      "outputs": []
    },
    {
      "cell_type": "code",
      "source": [
        "results_downloaded_model"
      ],
      "metadata": {
        "id": "JfKVrbICvvX9"
      },
      "execution_count": null,
      "outputs": []
    },
    {
      "cell_type": "markdown",
      "source": [
        "## Making predictions.\n"
      ],
      "metadata": {
        "id": "5mO47vjEwWVc"
      }
    },
    {
      "cell_type": "code",
      "source": [
        "from re import VERBOSE\n",
        "# make predictions with the model.\n",
        "preds_probs = model.predict(test_data, verbose=1)\n",
        "preds_probs"
      ],
      "metadata": {
        "colab": {
          "base_uri": "https://localhost:8080/"
        },
        "id": "O2LXga3ywb7I",
        "outputId": "69af7b17-84ef-46b7-8007-4cdc75aa27a3"
      },
      "execution_count": 71,
      "outputs": [
        {
          "output_type": "stream",
          "name": "stdout",
          "text": [
            "790/790 [==============================] - 61s 77ms/step\n"
          ]
        },
        {
          "output_type": "execute_result",
          "data": {
            "text/plain": [
              "array([[5.95422499e-02, 3.57421641e-06, 4.13771868e-02, ...,\n",
              "        1.41387257e-09, 8.35307801e-05, 3.08975508e-03],\n",
              "       [9.64016914e-01, 1.37533007e-09, 8.47806223e-04, ...,\n",
              "        5.42869529e-05, 7.83620738e-12, 9.84662241e-10],\n",
              "       [9.59258676e-01, 3.25337387e-05, 1.48669758e-03, ...,\n",
              "        7.18913384e-07, 5.43975261e-07, 4.02759979e-05],\n",
              "       ...,\n",
              "       [1.51387385e-05, 4.09730448e-04, 8.02507671e-10, ...,\n",
              "        2.17429133e-05, 1.07972855e-05, 5.37898600e-01],\n",
              "       [5.93182491e-03, 4.92365798e-03, 9.98234283e-03, ...,\n",
              "        1.19894612e-04, 1.68902443e-05, 4.52180393e-02],\n",
              "       [3.13634686e-02, 7.50524970e-03, 4.29750886e-04, ...,\n",
              "        5.03464777e-04, 5.20560252e-06, 6.90628529e-01]], dtype=float32)"
            ]
          },
          "metadata": {},
          "execution_count": 71
        }
      ]
    },
    {
      "cell_type": "code",
      "source": [],
      "metadata": {
        "id": "bMkyW64Yw2jI"
      },
      "execution_count": 70,
      "outputs": []
    }
  ],
  "metadata": {
    "accelerator": "GPU",
    "colab": {
      "gpuType": "T4",
      "provenance": [],
      "mount_file_id": "11a0x7TJBQcsjBze0U-iKPZAIexCcgf-m",
      "authorship_tag": "ABX9TyMnF5xKCwizzA6nD95+D/oh",
      "include_colab_link": true
    },
    "kernelspec": {
      "display_name": "Python 3",
      "name": "python3"
    },
    "language_info": {
      "name": "python"
    }
  },
  "nbformat": 4,
  "nbformat_minor": 0
}